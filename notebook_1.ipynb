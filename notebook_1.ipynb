{
 "cells": [
  {
   "cell_type": "code",
   "execution_count": 4,
   "id": "7ad7b9a8",
   "metadata": {},
   "outputs": [
    {
     "data": {
      "text/plain": [
       "'Instead to this we can use tiktoken library'"
      ]
     },
     "execution_count": 4,
     "metadata": {},
     "output_type": "execute_result"
    }
   ],
   "source": [
    "#from scratch_function.Tokenizer import SimpleTokenizer \n",
    "'''Instead to this we can use tiktoken library'''"
   ]
  },
  {
   "cell_type": "code",
   "execution_count": 11,
   "id": "69564f78",
   "metadata": {},
   "outputs": [],
   "source": [
    "text = '''yes, you can absolutely use library to automatically extract vocabulary from text data. below are the most commonly used library and how to use them to get the vocabulary, depending on your use case:'''"
   ]
  },
  {
   "cell_type": "code",
   "execution_count": null,
   "id": "51bd1e6d",
   "metadata": {},
   "outputs": [],
   "source": []
  }
 ],
 "metadata": {
  "kernelspec": {
   "display_name": "seo",
   "language": "python",
   "name": "python3"
  },
  "language_info": {
   "codemirror_mode": {
    "name": "ipython",
    "version": 3
   },
   "file_extension": ".py",
   "mimetype": "text/x-python",
   "name": "python",
   "nbconvert_exporter": "python",
   "pygments_lexer": "ipython3",
   "version": "3.11.9"
  }
 },
 "nbformat": 4,
 "nbformat_minor": 5
}
